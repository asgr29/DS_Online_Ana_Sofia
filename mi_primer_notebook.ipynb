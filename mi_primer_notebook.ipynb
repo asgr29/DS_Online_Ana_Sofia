{
 "cells": [
  {
   "cell_type": "raw",
   "id": "a684969c-9806-41d4-952e-e66767fd01e1",
   "metadata": {},
   "source": []
  },
  {
   "cell_type": "code",
   "execution_count": 1,
   "id": "ea717053-b106-48d4-96b2-89e82a8eb6c6",
   "metadata": {},
   "outputs": [
    {
     "name": "stdout",
     "output_type": "stream",
     "text": [
      "Hola Mundo\n"
     ]
    }
   ],
   "source": [
    "print(\"Hola Mundo\")"
   ]
  },
  {
   "cell_type": "markdown",
   "id": "9ba205cb-704d-4f93-8b35-e0c624ebe9cc",
   "metadata": {},
   "source": [
    "Hola Mundo\n"
   ]
  },
  {
   "cell_type": "code",
   "execution_count": null,
   "id": "db396ffa-2e63-4847-b19f-ef487e1f2ba7",
   "metadata": {},
   "outputs": [],
   "source": []
  }
 ],
 "metadata": {
  "kernelspec": {
   "display_name": "Python 3 (ipykernel)",
   "language": "python",
   "name": "python3"
  },
  "language_info": {
   "codemirror_mode": {
    "name": "ipython",
    "version": 3
   },
   "file_extension": ".py",
   "mimetype": "text/x-python",
   "name": "python",
   "nbconvert_exporter": "python",
   "pygments_lexer": "ipython3",
   "version": "3.13.7"
  }
 },
 "nbformat": 4,
 "nbformat_minor": 5
}
